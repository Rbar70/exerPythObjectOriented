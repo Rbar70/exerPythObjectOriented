{
 "cells": [
  {
   "cell_type": "code",
   "execution_count": 2,
   "source": [
    "#Python OOP 1-6 all in this doc\r\n",
    "#OOP - 1\r\n",
    " class Employee:\r\n",
    "    pass\r\n",
    "emp_1 = Employee()\r\n",
    "emp_2 = Employee()\r\n",
    "\r\n",
    "print(emp_1)\r\n",
    "print(emp_2)"
   ],
   "outputs": [
    {
     "output_type": "stream",
     "name": "stdout",
     "text": [
      "<__main__.Employee object at 0x000001EB05AC8A90>\n",
      "<__main__.Employee object at 0x000001EB05AC88B0>\n"
     ]
    }
   ],
   "metadata": {}
  },
  {
   "cell_type": "code",
   "execution_count": 5,
   "source": [
    "emp_1.first = \"Robert\"\r\n",
    "emp_1.last = \"Barber\"\r\n",
    "emp_1.email = \"R.barber@coca-cola.com\"\r\n",
    "emp_1.pay = 50000\r\n",
    "\r\n",
    "emp_2.first = \"Joe\"\r\n",
    "emp_2.last = \"Dirt\"\r\n",
    "emp_2.email = \"mullet@mullet.com\"\r\n",
    "emp_2.pay = 6000\r\n",
    "\r\n",
    "print(emp_1.email)\r\n",
    "print(emp_2.email)"
   ],
   "outputs": [
    {
     "output_type": "stream",
     "name": "stdout",
     "text": [
      "R.barber@coca-cola.com\n",
      "mullet@mullet.com\n"
     ]
    }
   ],
   "metadata": {}
  },
  {
   "cell_type": "code",
   "execution_count": 15,
   "source": [
    "class Employee:\r\n",
    "    def __init__(self, first, last, pay):\r\n",
    "        self.first = first\r\n",
    "        self.last = last\r\n",
    "        self.pay = pay\r\n",
    "        self.email = first + '.' + last + '@mullet.com'\r\n",
    "        self.proper_name = first + ' ' + last \r\n",
    "\r\n",
    "    def fullname(self):\r\n",
    "        return '{} {}' .format(self.first, self.last)\r\n",
    "\r\n",
    "emp_1 = Employee('Robert', 'Barber', 50000) \r\n",
    "emp_2 = Employee('Joe', 'Dirt', 6000)\r\n",
    "\r\n",
    "print(emp_1.email)\r\n",
    "print(emp_1.proper_name)\r\n",
    "print(emp_2.email)\r\n",
    "print(emp_2.proper_name)\r\n",
    "print(emp_2.fullname())\r\n",
    "print(Employee.fullname(emp_1))\r\n"
   ],
   "outputs": [
    {
     "output_type": "stream",
     "name": "stdout",
     "text": [
      "Robert.Barber@mullet.com\n",
      "Robert Barber\n",
      "Joe.Dirt@mullet.com\n",
      "Joe Dirt\n",
      "Joe Dirt\n",
      "Robert Barber\n"
     ]
    }
   ],
   "metadata": {}
  },
  {
   "cell_type": "code",
   "execution_count": 17,
   "source": [
    "#OOP - 2\r\n",
    "\r\n",
    "class Employee:\r\n",
    "    def __init__(self, first, last, pay):\r\n",
    "        self.first = first\r\n",
    "        self.last = last\r\n",
    "        self.pay = pay\r\n",
    "        self.email = first + '.' + last + '@mullet.com'\r\n",
    "        self.proper_name = first + ' ' + last \r\n",
    "\r\n",
    "    def fullname(self):\r\n",
    "        return '{} {}' .format(self.first, self.last)\r\n",
    "    \r\n",
    "    def apply_raise(self):\r\n",
    "        self.pay = int(self.pay * 1.04)\r\n",
    "\r\n",
    "emp_1 = Employee('Robert', 'Barber', 50000) \r\n",
    "emp_2 = Employee('Joe', 'Dirt', 6000)\r\n",
    "\r\n",
    "print(emp_1.pay)\r\n",
    "emp_1.apply_raise()\r\n",
    "print(emp_1.pay)"
   ],
   "outputs": [
    {
     "output_type": "stream",
     "name": "stdout",
     "text": [
      "50000\n",
      "52000\n"
     ]
    }
   ],
   "metadata": {}
  },
  {
   "cell_type": "code",
   "execution_count": 19,
   "source": [
    "class Employee:\r\n",
    "\r\n",
    "    raise_amount = 1.04\r\n",
    "\r\n",
    "    def __init__(self, first, last, pay):\r\n",
    "        self.first = first\r\n",
    "        self.last = last\r\n",
    "        self.pay = pay\r\n",
    "        self.email = first + '.' + last + '@mullet.com'\r\n",
    "        self.proper_name = first + ' ' + last \r\n",
    "\r\n",
    "    def fullname(self):\r\n",
    "        return '{} {}' .format(self.first, self.last)\r\n",
    "    \r\n",
    "    def apply_raise(self):\r\n",
    "        self.pay = int(self.pay *  self.raise_amount)\r\n",
    "\r\n",
    "emp_1 = Employee('Robert', 'Barber', 50000) \r\n",
    "emp_2 = Employee('Joe', 'Dirt', 6000)\r\n",
    "\r\n",
    "print(Employee.raise_amount)\r\n",
    "print(emp_1.raise_amount)\r\n",
    "print(emp_2.raise_amount)"
   ],
   "outputs": [
    {
     "output_type": "stream",
     "name": "stdout",
     "text": [
      "1.04\n",
      "1.04\n",
      "1.04\n"
     ]
    }
   ],
   "metadata": {}
  },
  {
   "cell_type": "code",
   "execution_count": 21,
   "source": [
    "class Employee:\r\n",
    "\r\n",
    "    raise_amount = 1.04\r\n",
    "\r\n",
    "    def __init__(self, first, last, pay):\r\n",
    "        self.first = first\r\n",
    "        self.last = last\r\n",
    "        self.pay = pay\r\n",
    "        self.email = first + '.' + last + '@mullet.com'\r\n",
    "        self.proper_name = first + ' ' + last \r\n",
    "\r\n",
    "    def fullname(self):\r\n",
    "        return '{} {}' .format(self.first, self.last)\r\n",
    "    \r\n",
    "    def apply_raise(self):\r\n",
    "        self.pay = int(self.pay *  self.raise_amount)\r\n",
    "\r\n",
    "emp_1 = Employee('Robert', 'Barber', 50000) \r\n",
    "emp_2 = Employee('Joe', 'Dirt', 6000)\r\n",
    "\r\n",
    "print(Employee.__dict__)\r\n",
    "\r\n",
    "#print(Employee.raise_amount)\r\n",
    "#print(emp_1.raise_amount)\r\n",
    "#print(emp_2.raise_amount)"
   ],
   "outputs": [
    {
     "output_type": "stream",
     "name": "stdout",
     "text": [
      "{'__module__': '__main__', 'raise_amount': 1.04, '__init__': <function Employee.__init__ at 0x000001EB06746F70>, 'fullname': <function Employee.fullname at 0x000001EB06746790>, 'apply_raise': <function Employee.apply_raise at 0x000001EB067464C0>, '__dict__': <attribute '__dict__' of 'Employee' objects>, '__weakref__': <attribute '__weakref__' of 'Employee' objects>, '__doc__': None}\n"
     ]
    }
   ],
   "metadata": {}
  },
  {
   "cell_type": "code",
   "execution_count": 23,
   "source": [
    "class Employee:\r\n",
    "\r\n",
    "    raise_amount = 1.04\r\n",
    "\r\n",
    "    def __init__(self, first, last, pay):\r\n",
    "        self.first = first\r\n",
    "        self.last = last\r\n",
    "        self.pay = pay\r\n",
    "        self.email = first + '.' + last + '@mullet.com'\r\n",
    "        self.proper_name = first + ' ' + last \r\n",
    "\r\n",
    "    def fullname(self):\r\n",
    "        return '{} {}' .format(self.first, self.last)\r\n",
    "    \r\n",
    "    def apply_raise(self):\r\n",
    "        self.pay = int(self.pay *  self.raise_amount)\r\n",
    "\r\n",
    "emp_1 = Employee('Robert', 'Barber', 50000) \r\n",
    "emp_2 = Employee('Joe', 'Dirt', 6000)\r\n",
    "\r\n",
    "print(emp_1.__dict__)\r\n",
    "\r\n",
    "emp_2.raise_amount = 1.20\r\n",
    "\r\n",
    "print(Employee.raise_amount)\r\n",
    "print(emp_1.raise_amount)\r\n",
    "print(emp_2.raise_amount)"
   ],
   "outputs": [
    {
     "output_type": "stream",
     "name": "stdout",
     "text": [
      "{'first': 'Robert', 'last': 'Barber', 'pay': 50000, 'email': 'Robert.Barber@mullet.com', 'proper_name': 'Robert Barber'}\n",
      "1.04\n",
      "1.04\n",
      "1.2\n"
     ]
    }
   ],
   "metadata": {}
  },
  {
   "cell_type": "code",
   "execution_count": 25,
   "source": [
    "class Employee:\r\n",
    "\r\n",
    "    raise_amount = 1.04\r\n",
    "    num_of_emps = 0\r\n",
    "\r\n",
    "    def __init__(self, first, last, pay):\r\n",
    "        self.first = first\r\n",
    "        self.last = last\r\n",
    "        self.pay = pay\r\n",
    "        self.email = first + '.' + last + '@mullet.com'\r\n",
    "        self.proper_name = first + ' ' + last \r\n",
    "\r\n",
    "        Employee.num_of_emps += 1\r\n",
    "\r\n",
    "    def fullname(self):\r\n",
    "        return '{} {}' .format(self.first, self.last)\r\n",
    "    \r\n",
    "    def apply_raise(self):\r\n",
    "        self.pay = int(self.pay *  self.raise_amount)\r\n",
    "\r\n",
    "emp_1 = Employee('Robert', 'Barber', 50000) \r\n",
    "emp_2 = Employee('Joe', 'Dirt', 6000)\r\n",
    "\r\n",
    "print(emp_1.__dict__)\r\n",
    "\r\n",
    "print(Employee.num_of_emps)"
   ],
   "outputs": [
    {
     "output_type": "stream",
     "name": "stdout",
     "text": [
      "{'first': 'Robert', 'last': 'Barber', 'pay': 50000, 'email': 'Robert.Barber@mullet.com', 'proper_name': 'Robert Barber'}\n",
      "2\n"
     ]
    }
   ],
   "metadata": {}
  },
  {
   "cell_type": "code",
   "execution_count": 29,
   "source": [
    "#OOP - 3\r\n",
    "\r\n",
    "class Employee:\r\n",
    "\r\n",
    "    raise_amount = 1.04\r\n",
    "    num_of_emps = 0\r\n",
    "\r\n",
    "    def __init__(self, first, last, pay):\r\n",
    "        self.first = first\r\n",
    "        self.last = last\r\n",
    "        self.pay = pay\r\n",
    "        self.email = first + '.' + last + '@mullet.com'\r\n",
    "        self.proper_name = first + ' ' + last \r\n",
    "\r\n",
    "        Employee.num_of_emps += 1\r\n",
    "\r\n",
    "    def fullname(self):\r\n",
    "        return '{} {}' .format(self.first, self.last)\r\n",
    "    \r\n",
    "    def apply_raise(self):\r\n",
    "        self.pay = int(self.pay *  self.raise_amount)\r\n",
    "\r\n",
    "    @classmethod\r\n",
    "    def set_raise_amt(cls, amount):\r\n",
    "        cls.raise_amount = amount\r\n",
    "\r\n",
    "emp_1 = Employee('Robert', 'Barber', 50000) \r\n",
    "emp_2 = Employee('Joe', 'Dirt', 6000)\r\n",
    "\r\n",
    "Employee.set_raise_amt(1.06)\r\n",
    "\r\n",
    "print(Employee.raise_amount)\r\n",
    "print(emp_1.raise_amount)\r\n",
    "print(emp_2.raise_amount)\r\n"
   ],
   "outputs": [
    {
     "output_type": "stream",
     "name": "stdout",
     "text": [
      "1.06\n",
      "1.06\n",
      "1.06\n"
     ]
    }
   ],
   "metadata": {}
  },
  {
   "cell_type": "code",
   "execution_count": 33,
   "source": [
    "class Employee:\r\n",
    "\r\n",
    "    raise_amount = 1.04\r\n",
    "    num_of_emps = 0\r\n",
    "\r\n",
    "    def __init__(self, first, last, pay):\r\n",
    "        self.first = first\r\n",
    "        self.last = last\r\n",
    "        self.pay = pay\r\n",
    "        self.email = first + '.' + last + '@mullet.com'\r\n",
    "        self.proper_name = first + ' ' + last \r\n",
    "\r\n",
    "        Employee.num_of_emps += 1\r\n",
    "\r\n",
    "    def fullname(self):\r\n",
    "        return '{} {}' .format(self.first, self.last)\r\n",
    "    \r\n",
    "    def apply_raise(self):\r\n",
    "        self.pay = int(self.pay *  self.raise_amount)\r\n",
    "\r\n",
    "    @classmethod\r\n",
    "    def set_raise_amt(cls, amount):\r\n",
    "        cls.raise_amount = amount\r\n",
    "\r\n",
    "emp_1 = Employee('Robert', 'Barber', 50000) \r\n",
    "emp_2 = Employee('Joe', 'Dirt', 6000)\r\n",
    "\r\n",
    "emp_str_1 = 'John-Doe-70000'\r\n",
    "emp_str_2 = 'Jon-Low-75000'\r\n",
    "emp_str_3 = 'Jane-Lee-87000'\r\n",
    "\r\n",
    "first, last, pay = emp_str_1.split('-')\r\n",
    "new_emp_1 = Employee(first, last, pay)\r\n",
    "first, last, pay = emp_str_2.split('-')\r\n",
    "new_emp_2 = Employee(first, last, pay)\r\n",
    "first, last, pay = emp_str_3.split('-')\r\n",
    "new_emp_3 = Employee(first, last, pay)\r\n",
    "print(new_emp_1.proper_name)\r\n",
    "print(new_emp_2.proper_name)\r\n",
    "print(new_emp_3.proper_name)\r\n"
   ],
   "outputs": [
    {
     "output_type": "stream",
     "name": "stdout",
     "text": [
      "John Doe\n",
      "Jon Low\n",
      "Jane Lee\n"
     ]
    }
   ],
   "metadata": {}
  },
  {
   "cell_type": "code",
   "execution_count": 41,
   "source": [
    "class Employee:\r\n",
    "\r\n",
    "    raise_amount = 1.04\r\n",
    "    num_of_emps = 0\r\n",
    "\r\n",
    "    def __init__(self, first, last, pay):\r\n",
    "        self.first = first\r\n",
    "        self.last = last\r\n",
    "        self.pay = pay\r\n",
    "        self.email = first + '.' + last + '@mullet.com'\r\n",
    "        self.proper_name = first + ' ' + last \r\n",
    "\r\n",
    "        Employee.num_of_emps += 1\r\n",
    "\r\n",
    "    def fullname(self):\r\n",
    "        return '{} {}' .format(self.first, self.last)\r\n",
    "    \r\n",
    "    def apply_raise(self):\r\n",
    "        self.pay = int(self.pay *  self.raise_amount)\r\n",
    "\r\n",
    "    @classmethod\r\n",
    "    def set_raise_amt(cls, amount):\r\n",
    "        cls.raise_amount = amount\r\n",
    "    \r\n",
    "    @classmethod\r\n",
    "    def from_string(cls, emp_str):\r\n",
    "        first, last, pay = emp_str.split('-')\r\n",
    "        return cls(first, last, pay)\r\n",
    "\r\n",
    "\r\n",
    "emp_1 = Employee('Robert', 'Barber', 50000) \r\n",
    "emp_2 = Employee('Joe', 'Dirt', 6000)\r\n",
    "\r\n",
    "emp_str_1 = 'John-Doe-70000'\r\n",
    "emp_str_2 = 'Jon-Low-75000'\r\n",
    "emp_str_3 = 'Jane-Lee-87000'\r\n",
    "\r\n",
    "\r\n",
    "print(new_emp_1.proper_name)\r\n",
    "print(new_emp_2.proper_name)\r\n",
    "print(new_emp_3.proper_name)\r\n"
   ],
   "outputs": [
    {
     "output_type": "stream",
     "name": "stdout",
     "text": [
      "John Doe\n",
      "Jon Low\n",
      "Jane Lee\n"
     ]
    }
   ],
   "metadata": {}
  },
  {
   "cell_type": "code",
   "execution_count": 8,
   "source": [
    "class Employee:\r\n",
    "\r\n",
    "    raise_amount = 1.04\r\n",
    "    num_of_emps = 0\r\n",
    "\r\n",
    "    def __init__(self, first, last, pay):\r\n",
    "        self.first = first\r\n",
    "        self.last = last\r\n",
    "        self.pay = pay\r\n",
    "        self.email = first + '.' + last + '@mullet.com'\r\n",
    "        self.proper_name = first + ' ' + last \r\n",
    "\r\n",
    "        Employee.num_of_emps += 1\r\n",
    "\r\n",
    "    def fullname(self):\r\n",
    "        return '{} {}' .format(self.first, self.last)\r\n",
    "    \r\n",
    "    def apply_raise(self):\r\n",
    "        self.pay = int(self.pay * self.raise_amount)\r\n",
    "\r\n",
    "    @classmethod\r\n",
    "    def set_raise_amt(cls, amount):\r\n",
    "        cls.raise_amount = amount\r\n",
    "    \r\n",
    "    @classmethod\r\n",
    "    def from_string(cls, emp_str):\r\n",
    "        first, last, pay = emp_str.split('-')\r\n",
    "        return cls(first, last, pay)\r\n",
    "\r\n",
    "    @staticmethod\r\n",
    "    def is_workday(day):\r\n",
    "        if day.weekday() == 5 or day.weekday() == 6:\r\n",
    "            return False\r\n",
    "        return True \r\n",
    "\r\n",
    "\r\n",
    "emp_1 = Employee('Robert', 'Barber', 50000) \r\n",
    "emp_2 = Employee('Joe', 'Dirt', 6000)\r\n",
    "\r\n",
    "import datetime\r\n",
    "my_date = datetime.date(2021, 9, 19)\r\n",
    "\r\n",
    "print(Employee.is_workday(my_date))\r\n",
    "\r\n",
    "\r\n"
   ],
   "outputs": [
    {
     "output_type": "stream",
     "name": "stdout",
     "text": [
      "False\n"
     ]
    }
   ],
   "metadata": {}
  },
  {
   "cell_type": "code",
   "execution_count": 14,
   "source": [
    "#OOP 4\r\n",
    "class Employee:\r\n",
    "\r\n",
    "    raise_amount = 1.04\r\n",
    "    num_of_emps = 0\r\n",
    "\r\n",
    "    def __init__(self, first, last, pay):\r\n",
    "        self.first = first\r\n",
    "        self.last = last\r\n",
    "        self.pay = pay\r\n",
    "        self.email = first + '.' + last + '@mullet.com'\r\n",
    "        self.proper_name = first + ' ' + last \r\n",
    "\r\n",
    "        Employee.num_of_emps += 1\r\n",
    "\r\n",
    "    def fullname(self):\r\n",
    "        return '{} {}' .format(self.first, self.last)\r\n",
    "    \r\n",
    "    def apply_raise(self):\r\n",
    "        self.pay = int(self.pay * self.raise_amount)\r\n",
    "\r\n",
    "class Deceloper(Employee):\r\n",
    "    pass\r\n",
    " \r\n",
    "dev_1 = Deceloper('Tom', 'Smith', 50000)\r\n",
    "dev_2 = Deceloper('Sam', 'Sung', 80000)\r\n",
    "\r\n",
    "print(dev_1.email)\r\n",
    "print(dev_2.email)\r\n",
    "\r\n",
    "\r\n"
   ],
   "outputs": [
    {
     "output_type": "stream",
     "name": "stdout",
     "text": [
      "Tom.Smith@mullet.com\n",
      "Sam.Sung@mullet.com\n"
     ]
    }
   ],
   "metadata": {}
  },
  {
   "cell_type": "code",
   "execution_count": 17,
   "source": [
    "print(help(Deceloper))"
   ],
   "outputs": [
    {
     "output_type": "stream",
     "name": "stdout",
     "text": [
      "Help on class Deceloper in module __main__:\n",
      "\n",
      "class Deceloper(Employee)\n",
      " |  Deceloper(first, last, pay)\n",
      " |  \n",
      " |  Method resolution order:\n",
      " |      Deceloper\n",
      " |      Employee\n",
      " |      builtins.object\n",
      " |  \n",
      " |  Methods inherited from Employee:\n",
      " |  \n",
      " |  __init__(self, first, last, pay)\n",
      " |      Initialize self.  See help(type(self)) for accurate signature.\n",
      " |  \n",
      " |  apply_raise(self)\n",
      " |  \n",
      " |  fullname(self)\n",
      " |  \n",
      " |  ----------------------------------------------------------------------\n",
      " |  Data descriptors inherited from Employee:\n",
      " |  \n",
      " |  __dict__\n",
      " |      dictionary for instance variables (if defined)\n",
      " |  \n",
      " |  __weakref__\n",
      " |      list of weak references to the object (if defined)\n",
      " |  \n",
      " |  ----------------------------------------------------------------------\n",
      " |  Data and other attributes inherited from Employee:\n",
      " |  \n",
      " |  num_of_emps = 2\n",
      " |  \n",
      " |  raise_amount = 1.04\n",
      "\n",
      "None\n"
     ]
    }
   ],
   "metadata": {}
  },
  {
   "cell_type": "code",
   "execution_count": 21,
   "source": [
    "class Employee:\r\n",
    "\r\n",
    "    raise_amount = 1.04\r\n",
    "    num_of_emps = 0\r\n",
    "\r\n",
    "    def __init__(self, first, last, pay):\r\n",
    "        self.first = first\r\n",
    "        self.last = last\r\n",
    "        self.pay = pay\r\n",
    "        self.email = first + '.' + last + '@mullet.com'\r\n",
    "        self.proper_name = first + ' ' + last \r\n",
    "\r\n",
    "        Employee.num_of_emps += 1\r\n",
    "\r\n",
    "    def fullname(self):\r\n",
    "        return '{} {}' .format(self.first, self.last)\r\n",
    "    \r\n",
    "    def apply_raise(self):\r\n",
    "        self.pay = int(self.pay *  self.raise_amount)\r\n",
    "\r\n",
    "class Deceloper(Employee):\r\n",
    "    pass\r\n",
    " \r\n",
    "dev_1 = Deceloper('Tom', 'Smith', 50000)\r\n",
    "dev_2 = Deceloper('Sam', 'Sung', 80000)\r\n",
    "\r\n",
    "print(dev_1.pay)\r\n",
    "dev_1.apply_raise()\r\n",
    "print(dev_1.pay)"
   ],
   "outputs": [
    {
     "output_type": "stream",
     "name": "stdout",
     "text": [
      "50000\n",
      "52000\n"
     ]
    }
   ],
   "metadata": {}
  },
  {
   "cell_type": "code",
   "execution_count": 23,
   "source": [
    "class Employee:\r\n",
    "\r\n",
    "    raise_amount = 1.04\r\n",
    "    num_of_emps = 0\r\n",
    "\r\n",
    "    def __init__(self, first, last, pay):\r\n",
    "        self.first = first\r\n",
    "        self.last = last\r\n",
    "        self.pay = pay\r\n",
    "        self.email = first + '.' + last + '@mullet.com'\r\n",
    "        self.proper_name = first + ' ' + last \r\n",
    "\r\n",
    "        Employee.num_of_emps += 1\r\n",
    "\r\n",
    "    def fullname(self):\r\n",
    "        return '{} {}' .format(self.first, self.last)\r\n",
    "    \r\n",
    "    def apply_raise(self):\r\n",
    "        self.pay = int(self.pay *  self.raise_amount)\r\n",
    "\r\n",
    "class Deceloper(Employee):\r\n",
    "    raise_amount = 1.20\r\n",
    " \r\n",
    "dev_1 = Deceloper('Tom', 'Smith', 50000)\r\n",
    "dev_2 = Deceloper('Sam', 'Sung', 80000)\r\n",
    "\r\n",
    "print(dev_1.pay)\r\n",
    "dev_1.apply_raise()\r\n",
    "print(dev_1.pay)"
   ],
   "outputs": [
    {
     "output_type": "stream",
     "name": "stdout",
     "text": [
      "50000\n",
      "60000\n"
     ]
    }
   ],
   "metadata": {}
  },
  {
   "cell_type": "code",
   "execution_count": 25,
   "source": [
    "class Employee:\r\n",
    "\r\n",
    "    raise_amount = 1.04\r\n",
    "    num_of_emps = 0\r\n",
    "\r\n",
    "    def __init__(self, first, last, pay):\r\n",
    "        self.first = first\r\n",
    "        self.last = last\r\n",
    "        self.pay = pay\r\n",
    "        self.email = first + '.' + last + '@mullet.com'\r\n",
    "        self.proper_name = first + ' ' + last \r\n",
    "\r\n",
    "        Employee.num_of_emps += 1\r\n",
    "\r\n",
    "    def fullname(self):\r\n",
    "        return '{} {}' .format(self.first, self.last)\r\n",
    "    \r\n",
    "    def apply_raise(self):\r\n",
    "        self.pay = int(self.pay *  self.raise_amount)\r\n",
    "\r\n",
    "class Deceloper(Employee):\r\n",
    "    raise_amount = 1.20\r\n",
    "    \r\n",
    "    def __init__(self, first, last, pay, prog_lang):\r\n",
    "        super().__init__(first, last, pay)\r\n",
    "        self.prog_lang = prog_lang \r\n",
    "       \r\n",
    "\r\n",
    " \r\n",
    "dev_1 = Deceloper('Tom', 'Smith', 50000, 'Python')\r\n",
    "dev_2 = Deceloper('Sam', 'Sung', 80000, 'Java')\r\n",
    "\r\n",
    "print(dev_1.prog_lang)\r\n",
    "print(dev_2.prog_lang)"
   ],
   "outputs": [
    {
     "output_type": "stream",
     "name": "stdout",
     "text": [
      "Python\n",
      "Java\n"
     ]
    }
   ],
   "metadata": {}
  },
  {
   "cell_type": "code",
   "execution_count": 42,
   "source": [
    "class Employee:\r\n",
    "\r\n",
    "    raise_amount = 1.04\r\n",
    "    num_of_emps = 0\r\n",
    "\r\n",
    "    def __init__(self, first, last, pay):\r\n",
    "        self.first = first\r\n",
    "        self.last = last\r\n",
    "        self.pay = pay\r\n",
    "        self.email = first + '.' + last + '@mullet.com'\r\n",
    "        self.proper_name = first + ' ' + last \r\n",
    "\r\n",
    "        Employee.num_of_emps += 1\r\n",
    "\r\n",
    "    def fullname(self):\r\n",
    "        return '{} {}' .format(self.first, self.last)\r\n",
    "    \r\n",
    "    def apply_raise(self):\r\n",
    "        self.pay = int(self.pay *  self.raise_amount)\r\n",
    "\r\n",
    "class Deceloper(Employee):\r\n",
    "    raise_amount = 1.20\r\n",
    "    \r\n",
    "    def __init__(self, first, last, pay, prog_lang):\r\n",
    "        super().__init__(first, last, pay)\r\n",
    "        self.prog_lang = prog_lang \r\n",
    "\r\n",
    "\r\n",
    "class Manager(Employee):\r\n",
    "        \r\n",
    "    def __init__(self, first, last, pay, employees=None):\r\n",
    "        super().__init__(first, last, pay)\r\n",
    "        if employees is None:\r\n",
    "            self.employees = []\r\n",
    "        else:\r\n",
    "            self.employees = employees\r\n",
    "\r\n",
    "    def add_emp(self, emp):\r\n",
    "        if emp not in self.employees:\r\n",
    "            self.employees.append(emp)\r\n",
    "    def remove_emp(self, emp):\r\n",
    "        if emp in self.employees:\r\n",
    "            self.employees.remove(emp)\r\n",
    "    def print_emps(self):\r\n",
    "        for emp in self.employees:\r\n",
    "            print('-->', emp.fullname())\r\n",
    "\r\n",
    "       \r\n",
    "\r\n",
    " \r\n",
    "dev_1 = Deceloper('Tom', 'Smith', 50000, 'Python')\r\n",
    "dev_2 = Deceloper('Sam', 'Sung', 80000, 'Java')\r\n",
    "\r\n",
    "mgr_1 = Manager ('Sue', 'Smith', 90000, [dev_1]) \r\n",
    "\r\n",
    "mgr_1.add_emp(dev_1)\r\n",
    "mgr_1.add_emp(dev_2)\r\n",
    "\r\n",
    "print(mgr_1.email)\r\n",
    "\r\n",
    "mgr_1.print_emps()\r\n",
    "\r\n",
    "#print(dev_1.prog_lang)\r\n",
    "#print(dev_2.prog_lang)"
   ],
   "outputs": [
    {
     "output_type": "stream",
     "name": "stdout",
     "text": [
      "Sue.Smith@mullet.com\n",
      "--> Tom Smith\n",
      "--> Sam Sung\n"
     ]
    }
   ],
   "metadata": {}
  },
  {
   "cell_type": "code",
   "execution_count": 44,
   "source": [
    "class Employee:\r\n",
    "\r\n",
    "    raise_amount = 1.04\r\n",
    "    num_of_emps = 0\r\n",
    "\r\n",
    "    def __init__(self, first, last, pay):\r\n",
    "        self.first = first\r\n",
    "        self.last = last\r\n",
    "        self.pay = pay\r\n",
    "        self.email = first + '.' + last + '@mullet.com'\r\n",
    "        self.proper_name = first + ' ' + last \r\n",
    "\r\n",
    "        Employee.num_of_emps += 1\r\n",
    "\r\n",
    "    def fullname(self):\r\n",
    "        return '{} {}' .format(self.first, self.last)\r\n",
    "    \r\n",
    "    def apply_raise(self):\r\n",
    "        self.pay = int(self.pay *  self.raise_amount)\r\n",
    "\r\n",
    "class Deceloper(Employee):\r\n",
    "    raise_amount = 1.20\r\n",
    "    \r\n",
    "    def __init__(self, first, last, pay, prog_lang):\r\n",
    "        super().__init__(first, last, pay)\r\n",
    "        self.prog_lang = prog_lang \r\n",
    "\r\n",
    "\r\n",
    "class Manager(Employee):\r\n",
    "        \r\n",
    "    def __init__(self, first, last, pay, employees=None):\r\n",
    "        super().__init__(first, last, pay)\r\n",
    "        if employees is None:\r\n",
    "            self.employees = []\r\n",
    "        else:\r\n",
    "            self.employees = employees\r\n",
    "\r\n",
    "    def add_emp(self, emp):\r\n",
    "        if emp not in self.employees:\r\n",
    "            self.employees.append(emp)\r\n",
    "    def remove_emp(self, emp):\r\n",
    "        if emp in self.employees:\r\n",
    "            self.employees.remove(emp)\r\n",
    "    def print_emps(self):\r\n",
    "        for emp in self.employees:\r\n",
    "            print('-->', emp.fullname())\r\n",
    "\r\n",
    "       \r\n",
    "\r\n",
    " \r\n",
    "dev_1 = Deceloper('Tom', 'Smith', 50000, 'Python')\r\n",
    "dev_2 = Deceloper('Sam', 'Sung', 80000, 'Java')\r\n",
    "\r\n",
    "mgr_1 = Manager ('Sue', 'Smith', 90000, [dev_1]) \r\n",
    "\r\n",
    "mgr_1.add_emp(dev_1)\r\n",
    "mgr_1.add_emp(dev_2)\r\n",
    "mgr_1.remove_emp(dev_2)\r\n",
    "\r\n",
    "\r\n",
    "print(mgr_1.email)\r\n",
    "\r\n",
    "mgr_1.print_emps()\r\n",
    "\r\n",
    "#print(dev_1.prog_lang)\r\n",
    "#print(dev_2.prog_lang)"
   ],
   "outputs": [
    {
     "output_type": "stream",
     "name": "stdout",
     "text": [
      "Sue.Smith@mullet.com\n",
      "--> Tom Smith\n"
     ]
    }
   ],
   "metadata": {}
  },
  {
   "cell_type": "code",
   "execution_count": 47,
   "source": [
    "class Employee:\r\n",
    "\r\n",
    "    raise_amount = 1.04\r\n",
    "    num_of_emps = 0\r\n",
    "\r\n",
    "    def __init__(self, first, last, pay):\r\n",
    "        self.first = first\r\n",
    "        self.last = last\r\n",
    "        self.pay = pay\r\n",
    "        self.email = first + '.' + last + '@mullet.com'\r\n",
    "        self.proper_name = first + ' ' + last \r\n",
    "\r\n",
    "        Employee.num_of_emps += 1\r\n",
    "\r\n",
    "    def fullname(self):\r\n",
    "        return '{} {}' .format(self.first, self.last)\r\n",
    "    \r\n",
    "    def apply_raise(self):\r\n",
    "        self.pay = int(self.pay *  self.raise_amount)\r\n",
    "\r\n",
    "class Deceloper(Employee):\r\n",
    "    raise_amount = 1.20\r\n",
    "    \r\n",
    "    def __init__(self, first, last, pay, prog_lang):\r\n",
    "        super().__init__(first, last, pay)\r\n",
    "        self.prog_lang = prog_lang \r\n",
    "\r\n",
    "\r\n",
    "class Manager(Employee):\r\n",
    "        \r\n",
    "    def __init__(self, first, last, pay, employees=None):\r\n",
    "        super().__init__(first, last, pay)\r\n",
    "        if employees is None:\r\n",
    "            self.employees = []\r\n",
    "        else:\r\n",
    "            self.employees = employees\r\n",
    "\r\n",
    "    def add_emp(self, emp):\r\n",
    "        if emp not in self.employees:\r\n",
    "            self.employees.append(emp)\r\n",
    "    def remove_emp(self, emp):\r\n",
    "        if emp in self.employees:\r\n",
    "            self.employees.remove(emp)\r\n",
    "    def print_emps(self):\r\n",
    "        for emp in self.employees:\r\n",
    "            print('-->', emp.fullname())\r\n",
    "\r\n",
    "       \r\n",
    "\r\n",
    " \r\n",
    "dev_1 = Deceloper('Tom', 'Smith', 50000, 'Python')\r\n",
    "dev_2 = Deceloper('Sam', 'Sung', 80000, 'Java')\r\n",
    "\r\n",
    "mgr_1 = Manager ('Sue', 'Smith', 90000, [dev_1]) \r\n",
    "\r\n",
    "mgr_1.add_emp(dev_1)\r\n",
    "mgr_1.add_emp(dev_2)\r\n",
    "mgr_1.remove_emp(dev_2)\r\n",
    "\r\n",
    "\r\n",
    "print(mgr_1.email)\r\n",
    "\r\n",
    "mgr_1.print_emps()\r\n",
    "\r\n",
    "print(issubclass(Deceloper, Employee))"
   ],
   "outputs": [
    {
     "output_type": "stream",
     "name": "stdout",
     "text": [
      "Sue.Smith@mullet.com\n",
      "--> Tom Smith\n",
      "True\n"
     ]
    }
   ],
   "metadata": {}
  },
  {
   "cell_type": "code",
   "execution_count": 46,
   "source": [
    "#OOP5\r\n",
    "class Employee:\r\n",
    "\r\n",
    "    raise_amount = 1.04\r\n",
    "    num_of_emps = 0\r\n",
    "\r\n",
    "    def __init__(self, first, last, pay):\r\n",
    "        self.first = first\r\n",
    "        self.last = last\r\n",
    "        self.pay = pay\r\n",
    "        self.email = first + '.' + last + '@mullet.com'\r\n",
    "        self.proper_name = first + ' ' + last \r\n",
    "\r\n",
    "        Employee.num_of_emps += 1\r\n",
    "\r\n",
    "    def fullname(self):\r\n",
    "        return '{} {}' .format(self.first, self.last)\r\n",
    "    \r\n",
    "    def apply_raise(self):\r\n",
    "        self.pay = int(self.pay *  self.raise_amount)\r\n",
    "\r\n",
    "     \r\n",
    "\r\n",
    " \r\n",
    "emp_1 = Employee('Tom', 'Smith', 50000)\r\n",
    "emp_2 = Employee('Sam', 'Sung', 80000)\r\n",
    "\r\n",
    "\r\n",
    "\r\n",
    "print(1+2)\r\n",
    "print('a' + 'b')"
   ],
   "outputs": [
    {
     "output_type": "stream",
     "name": "stdout",
     "text": [
      "3\n",
      "ab\n"
     ]
    }
   ],
   "metadata": {}
  },
  {
   "cell_type": "code",
   "execution_count": 61,
   "source": [
    "class Employee:\r\n",
    "\r\n",
    "    raise_amount = 1.04\r\n",
    "    num_of_emps = 0\r\n",
    "\r\n",
    "    def __init__(self, first, last, pay):\r\n",
    "        self.first = first\r\n",
    "        self.last = last\r\n",
    "        self.pay = pay\r\n",
    "        self.email = first + '.' + last + '@mullet.com'\r\n",
    "        self.proper_name = first + ' ' + last \r\n",
    "\r\n",
    "        Employee.num_of_emps += 1\r\n",
    "\r\n",
    "    def fullname(self):\r\n",
    "        return '{} {}' .format(self.first, self.last)\r\n",
    "    \r\n",
    "    def apply_raise(self):\r\n",
    "        self.pay = int(self.pay *  self.raise_amount)\r\n",
    "\r\n",
    "    def __repr__(self):\r\n",
    "        return \"Employee('{}', '{}', {})\".format(self.first, self.last, self.pay)\r\n",
    "    \r\n",
    "    def __str__(self):\r\n",
    "        return '{} - {}'.format(self.fullname(), self.email)\r\n",
    "     \r\n",
    "\r\n",
    " \r\n",
    "emp_1 = Employee('Tom', 'Smith', 50000)\r\n",
    "emp_2 = Employee('Sam', 'Sung', 80000)\r\n",
    "\r\n",
    "print(emp_1)\r\n",
    "print(emp_1.__str__())\r\n",
    "\r\n"
   ],
   "outputs": [
    {
     "output_type": "stream",
     "name": "stdout",
     "text": [
      "Tom Smith - Tom.Smith@mullet.com\n",
      "Tom Smith - Tom.Smith@mullet.com\n"
     ]
    }
   ],
   "metadata": {}
  },
  {
   "cell_type": "code",
   "execution_count": 70,
   "source": [
    "print(int.__add__(1,2))\r\n",
    "print(str.__add__('s', 'a'))\r\n"
   ],
   "outputs": [
    {
     "output_type": "stream",
     "name": "stdout",
     "text": [
      "3\n",
      "sa\n"
     ]
    }
   ],
   "metadata": {}
  },
  {
   "cell_type": "code",
   "execution_count": 50,
   "source": [
    "class Employee:\r\n",
    "\r\n",
    "    raise_amount = 1.04\r\n",
    "    num_of_emps = 0\r\n",
    "\r\n",
    "    def __init__(self, first, last, pay):\r\n",
    "        self.first = first\r\n",
    "        self.last = last\r\n",
    "        self.pay = pay\r\n",
    "        self.email = first + '.' + last + '@mullet.com'\r\n",
    "        self.proper_name = first + ' ' + last \r\n",
    "\r\n",
    "        Employee.num_of_emps += 1\r\n",
    "\r\n",
    "    def fullname(self):\r\n",
    "        return '{} {}' .format(self.first, self.last)\r\n",
    "    \r\n",
    "    def apply_raise(self):\r\n",
    "        self.pay = int(self.pay *  self.raise_amount)\r\n",
    "\r\n",
    "    def __repr__(self):\r\n",
    "        return \"Employee('{}', '{}', {})\".format(self.first, self.last, self.pay)\r\n",
    "    \r\n",
    "    def __str__(self):\r\n",
    "        return '{} - {}'.format(self.fullname(), self.email)\r\n",
    "    \r\n",
    "    def __add__(self, other):\r\n",
    "        return self.pay + other.pay\r\n",
    "\r\n",
    "    def __len__(self):\r\n",
    "        return len(self.fullname())\r\n",
    "     \r\n",
    "\r\n",
    " \r\n",
    "emp_1 = Employee('Tom', 'Smith', 50000)\r\n",
    "emp_2 = Employee('Sam', 'Sung', 80000)\r\n",
    "\r\n",
    "print (emp_1 + emp_2)\r\n",
    "print(emp_1)\r\n",
    "print(emp_1.__str__())\r\n",
    "\r\n",
    "print(len(emp_1))\r\n"
   ],
   "outputs": [
    {
     "output_type": "stream",
     "name": "stdout",
     "text": [
      "130000\n",
      "Tom Smith - Tom.Smith@mullet.com\n",
      "Tom Smith - Tom.Smith@mullet.com\n",
      "9\n"
     ]
    }
   ],
   "metadata": {}
  },
  {
   "cell_type": "code",
   "execution_count": 56,
   "source": [
    "#OPP-6\r\n",
    "\r\n",
    "class Employee:\r\n",
    "\r\n",
    "\r\n",
    "    def __init__(self, first, last):\r\n",
    "        self.first = first\r\n",
    "        self.last = last\r\n",
    "        self.email = first + '.' + last + '@mullet.com'\r\n",
    "        self.proper_name = first + ' ' + last \r\n",
    "\r\n",
    "     \r\n",
    "\r\n",
    "    def fullname(self):\r\n",
    "        return '{} {}' .format(self.first, self.last)\r\n",
    "\r\n",
    "emp_1 = Employee('Tom', 'Smith')\r\n",
    "\r\n",
    "emp_1.first ='Jimbob'\r\n",
    "\r\n",
    "print(emp_1.first)\r\n",
    "print(emp_1.email)\r\n",
    "print(emp_1.fullname())\r\n"
   ],
   "outputs": [
    {
     "output_type": "stream",
     "name": "stdout",
     "text": [
      "Jimbob\n",
      "Tom.Smith@mullet.com\n",
      "Jimbob Smith\n"
     ]
    }
   ],
   "metadata": {}
  },
  {
   "cell_type": "code",
   "execution_count": 70,
   "source": [
    "class Employee:\r\n",
    "\r\n",
    "\r\n",
    "    def __init__(self, first, last):\r\n",
    "        self.first = first\r\n",
    "        self.last = last\r\n",
    "        self.proper_name = first + ' ' + last \r\n",
    "\r\n",
    "    @property\r\n",
    "    def email(self):\r\n",
    "        return '{}.{}@mullet.com'.format(self.first, self.last)\r\n",
    "\r\n",
    "    @property\r\n",
    "    def fullname(self):\r\n",
    "        return '{} {}' .format(self.first, self.last)\r\n",
    "\r\n",
    "    @fullname.setter\r\n",
    "    def fullname(self, name):\r\n",
    "        first, last = name.split(' ')\r\n",
    "        self.first = first\r\n",
    "        self.last = last\r\n",
    "\r\n",
    "    @fullname.deleter\r\n",
    "    def fullname(self):\r\n",
    "        print('Delete Name!')\r\n",
    "        self.first = None\r\n",
    "        self.last = None\r\n",
    "\r\n",
    "\r\n",
    "emp_1 = Employee('Tom','Smith')\r\n",
    "\r\n",
    "emp_1.fullname = 'Bob John'\r\n",
    "\r\n",
    "print(emp_1.first)\r\n",
    "print(emp_1.email)\r\n",
    "print(emp_1.fullname)\r\n"
   ],
   "outputs": [
    {
     "output_type": "stream",
     "name": "stdout",
     "text": [
      "Bob\n",
      "Bob.John@mullet.com\n",
      "Bob John\n"
     ]
    }
   ],
   "metadata": {}
  },
  {
   "cell_type": "code",
   "execution_count": 72,
   "source": [
    "class Employee:\r\n",
    "\r\n",
    "\r\n",
    "    def __init__(self, first, last):\r\n",
    "        self.first = first\r\n",
    "        self.last = last\r\n",
    "        self.proper_name = first + ' ' + last \r\n",
    "\r\n",
    "    @property\r\n",
    "    def email(self):\r\n",
    "        return '{}.{}@mullet.com'.format(self.first, self.last)\r\n",
    "\r\n",
    "    @property\r\n",
    "    def fullname(self):\r\n",
    "        return '{} {}' .format(self.first, self.last)\r\n",
    "\r\n",
    "    @fullname.setter\r\n",
    "    def fullname(self, name):\r\n",
    "        first, last = name.split(' ')\r\n",
    "        self.first = first\r\n",
    "        self.last = last\r\n",
    "\r\n",
    "    @fullname.deleter\r\n",
    "    def fullname(self):\r\n",
    "        print('Delete Name!')\r\n",
    "        self.first = None\r\n",
    "        self.last = None\r\n",
    "\r\n",
    "\r\n",
    "emp_1 = Employee('Tom','Smith')\r\n",
    "\r\n",
    "emp_1.fullname = 'Bob John'\r\n",
    "\r\n",
    "print(emp_1.first)\r\n",
    "print(emp_1.email)\r\n",
    "print(emp_1.fullname)\r\n",
    "\r\n",
    "del emp_1.fullname\r\n",
    "print(emp_1.fullname)"
   ],
   "outputs": [
    {
     "output_type": "stream",
     "name": "stdout",
     "text": [
      "Bob\n",
      "Bob.John@mullet.com\n",
      "Bob John\n",
      "Delete Name!\n",
      "None None\n"
     ]
    }
   ],
   "metadata": {}
  }
 ],
 "metadata": {
  "orig_nbformat": 4,
  "language_info": {
   "name": "python",
   "version": "3.8.10",
   "mimetype": "text/x-python",
   "codemirror_mode": {
    "name": "ipython",
    "version": 3
   },
   "pygments_lexer": "ipython3",
   "nbconvert_exporter": "python",
   "file_extension": ".py"
  },
  "kernelspec": {
   "name": "python3",
   "display_name": "Python 3.8.10 64-bit ('Basics Packages': conda)"
  },
  "interpreter": {
   "hash": "3ec2476c48889052848e17f4d63f00e06b751092a8b83f2e664b9facfe6d6422"
  }
 },
 "nbformat": 4,
 "nbformat_minor": 2
}